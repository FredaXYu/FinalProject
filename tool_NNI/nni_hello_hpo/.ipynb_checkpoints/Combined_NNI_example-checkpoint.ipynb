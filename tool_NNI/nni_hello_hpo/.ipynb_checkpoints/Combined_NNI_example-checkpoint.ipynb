{
 "cells": [
  {
   "cell_type": "code",
   "execution_count": 10,
   "id": "f3476571",
   "metadata": {},
   "outputs": [
    {
     "name": "stdout",
     "output_type": "stream",
     "text": [
      "[2022-12-10 11:11:47] \u001b[32mIntermediate result: 0.4981  (Index 0)\u001b[0m\n",
      "[2022-12-10 11:12:17] \u001b[32mIntermediate result: 0.5755  (Index 1)\u001b[0m\n",
      "[2022-12-10 11:12:46] \u001b[32mIntermediate result: 0.6161  (Index 2)\u001b[0m\n",
      "[2022-12-10 11:13:17] \u001b[32mIntermediate result: 0.6354  (Index 3)\u001b[0m\n",
      "[2022-12-10 11:13:44] \u001b[32mIntermediate result: 0.6479  (Index 4)\u001b[0m\n",
      "[2022-12-10 11:13:44] \u001b[32mFinal result: 0.6479\u001b[0m\n"
     ]
    }
   ],
   "source": [
    "# model.py\n",
    "\"\"\"\n",
    "Run main.py to start.\n",
    "\n",
    "This script is modified from PyTorch quickstart:\n",
    "https://pytorch.org/tutorials/beginner/basics/quickstart_tutorial.html\n",
    "\"\"\"\n",
    "\n",
    "import nni\n",
    "import torch\n",
    "from torch import nn\n",
    "from torch.utils.data import DataLoader\n",
    "from torchvision import datasets\n",
    "from torchvision.transforms import ToTensor\n",
    "\n",
    "# Get optimized hyperparameters\n",
    "params = {'features': 512, 'lr': 0.001, 'momentum': 0}\n",
    "optimized_params = nni.get_next_parameter()\n",
    "params.update(optimized_params)\n",
    "\n",
    "# Load dataset\n",
    "training_data = datasets.FashionMNIST(root='data', train=True, download=True, transform=ToTensor())\n",
    "test_data = datasets.FashionMNIST(root='data', train=False, download=True, transform=ToTensor())\n",
    "train_dataloader = DataLoader(training_data, batch_size=64)\n",
    "test_dataloader = DataLoader(test_data, batch_size=64)\n",
    "\n",
    "# Build model\n",
    "device = 'cuda' if torch.cuda.is_available() else 'cpu'\n",
    "model = nn.Sequential(\n",
    "    nn.Flatten(),\n",
    "    nn.Linear(28*28, params['features']),\n",
    "    nn.ReLU(),\n",
    "    nn.Linear(params['features'], params['features']),\n",
    "    nn.ReLU(),\n",
    "    nn.Linear(params['features'], 10)\n",
    ").to(device)\n",
    "\n",
    "# Training functions\n",
    "loss_fn = nn.CrossEntropyLoss()\n",
    "optimizer = torch.optim.SGD(model.parameters(), lr=params['lr'], momentum=params['momentum'])\n",
    "\n",
    "def train(dataloader, model, loss_fn, optimizer):\n",
    "    model.train()\n",
    "    for batch, (X, y) in enumerate(dataloader):\n",
    "        X, y = X.to(device), y.to(device)\n",
    "        pred = model(X)\n",
    "        loss = loss_fn(pred, y)\n",
    "        optimizer.zero_grad()\n",
    "        loss.backward()\n",
    "        optimizer.step()\n",
    "\n",
    "def test(dataloader, model, loss_fn):\n",
    "    model.eval()\n",
    "    correct = 0\n",
    "    with torch.no_grad():\n",
    "        for X, y in dataloader:\n",
    "            X, y = X.to(device), y.to(device)\n",
    "            pred = model(X)\n",
    "            correct += (pred.argmax(1) == y).type(torch.float).sum().item()\n",
    "    return correct / len(dataloader.dataset)\n",
    "\n",
    "# Train the model\n",
    "epochs = 5\n",
    "for t in range(epochs):\n",
    "    train(train_dataloader, model, loss_fn, optimizer)\n",
    "    accuracy = test(test_dataloader, model, loss_fn)\n",
    "    nni.report_intermediate_result(accuracy)\n",
    "nni.report_final_result(accuracy)\n"
   ]
  },
  {
   "cell_type": "code",
   "execution_count": 9,
   "id": "28594af9",
   "metadata": {},
   "outputs": [
    {
     "name": "stdout",
     "output_type": "stream",
     "text": [
      "[2022-12-10 11:10:42] \u001b[32mCreating experiment, Experiment ID: \u001b[36mdrg6vnfj\u001b[0m\n",
      "[2022-12-10 11:10:42] \u001b[32mStarting web server...\u001b[0m\n",
      "[2022-12-10 11:10:44] \u001b[32mSetting up...\u001b[0m\n",
      "[2022-12-10 11:10:44] \u001b[32mWeb portal URLs: \u001b[36mhttp://169.254.107.54:8081 http://169.254.146.219:8081 http://169.254.103.200:8081 http://192.168.1.12:8081 http://169.254.6.133:8081 http://127.0.0.1:8081\u001b[0m\n",
      "Experiment is running. Press Ctrl-C to quit.\n"
     ]
    }
   ],
   "source": [
    "# main.py\n",
    "from pathlib import Path\n",
    "import signal\n",
    "\n",
    "from nni.experiment import Experiment\n",
    "\n",
    "# Define search space\n",
    "search_space = {\n",
    "    'features': {'_type': 'choice', '_value': [128, 256, 512, 1024]},\n",
    "    'lr': {'_type': 'loguniform', '_value': [0.0001, 0.1]},\n",
    "    'momentum': {'_type': 'uniform', '_value': [0, 1]},\n",
    "}\n",
    "\n",
    "# Configure experiment\n",
    "experiment = Experiment('local')\n",
    "experiment.config.trial_command = 'python model.py'\n",
    "# experiment.config.trial_code_directory = Path(__file__).parent\n",
    "experiment.config.search_space = search_space\n",
    "experiment.config.tuner.name = 'Random'\n",
    "experiment.config.max_trial_number = 10\n",
    "experiment.config.trial_concurrency = 2\n",
    "\n",
    "# Run it!\n",
    "experiment.run(port=8081, wait_completion=False)\n",
    "\n",
    "print('Experiment is running. Press Ctrl-C to quit.')\n",
    "# signal.pause()"
   ]
  },
  {
   "cell_type": "code",
   "execution_count": 12,
   "id": "6824b743",
   "metadata": {},
   "outputs": [
    {
     "name": "stdout",
     "output_type": "stream",
     "text": [
      "INFO:  Stopping experiment drg6vnfj\n",
      "INFO:  Stop experiment success.\n"
     ]
    }
   ],
   "source": [
    "! nnictl stop drg6vnfj\n",
    "# stop + the Experiment_ID"
   ]
  },
  {
   "cell_type": "code",
   "execution_count": null,
   "id": "2e0a6a3f",
   "metadata": {},
   "outputs": [],
   "source": []
  }
 ],
 "metadata": {
  "kernelspec": {
   "display_name": "Python 3 (ipykernel)",
   "language": "python",
   "name": "python3"
  },
  "language_info": {
   "codemirror_mode": {
    "name": "ipython",
    "version": 3
   },
   "file_extension": ".py",
   "mimetype": "text/x-python",
   "name": "python",
   "nbconvert_exporter": "python",
   "pygments_lexer": "ipython3",
   "version": "3.8.8"
  }
 },
 "nbformat": 4,
 "nbformat_minor": 5
}
